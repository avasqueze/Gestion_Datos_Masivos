{
  "cells": [
    {
      "cell_type": "markdown",
      "metadata": {},
      "source": [
        "# Semana 1 — Baseline PySpark (local)\n",
        "Objetivo: cargar un CSV, realizar agregaciones y medir tiempos de ejecución en modo local `local[*]`.\n"
      ]
    },
    {
      "cell_type": "code",
      "metadata": {},
      "execution_count": null,
      "outputs": [],
      "source": [
        "from pyspark.sql import SparkSession\n",
        "from pyspark.sql.functions import col, count, avg\n",
        "spark = (SparkSession.builder\n",
        "         .appName('baseline-local')\n",
        "         .master('local[*]')\n",
        "         .config('spark.sql.shuffle.partitions', '2')\n",
        "         .getOrCreate())\n",
        "df = spark.read.option('header', True).csv('../../data/clicks_sample.csv', inferSchema=True)\n",
        "df.printSchema()\n",
        "df.cache()\n",
        "%time result = df.groupBy('action').agg(count('*').alias('n'), avg('price').alias('avg_price')).orderBy(col('n').desc())\n",
        "result.show(truncate=False)\n"
      ]
    }
  ],
  "metadata": {
    "kernelspec": {
      "display_name": "Python 3",
      "language": "python",
      "name": "python3"
    },
    "language_info": {
      "name": "python",
      "version": "3.10"
    }
  },
  "nbformat": 4,
  "nbformat_minor": 5
}