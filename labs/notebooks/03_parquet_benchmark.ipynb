{
  "cells": [
    {
      "cell_type": "markdown",
      "metadata": {},
      "source": [
        "# Semana 3 — CSV→Parquet y benchmark\n",
        "Convierta CSV a Parquet, compare tamaño y tiempo de lectura.\n"
      ]
    },
    {
      "cell_type": "code",
      "metadata": {},
      "execution_count": null,
      "outputs": [],
      "source": [
        "from pyspark.sql import SparkSession\n",
        "from pyspark.sql.functions import col\n",
        "import time, os\n",
        "spark = (SparkSession.builder.appName('csv2parquet').master('local[*]').getOrCreate())\n",
        "csv_path='../../data/clicks_sample.csv'\n",
        "parquet_path='../../data/parquet/clicks_parquet'\n",
        "df = spark.read.option('header', True).csv(csv_path, inferSchema=True)\n",
        "start=time.time(); df.write.mode('overwrite').parquet(parquet_path); w=time.time()-start\n",
        "print(f'Escritura Parquet: {w:.3f}s')\n",
        "start=time.time(); df_csv=spark.read.option('header', True).csv(csv_path, inferSchema=True); t_csv=time.time()-start\n",
        "start=time.time(); df_parq=spark.read.parquet(parquet_path); t_parq=time.time()-start\n",
        "print({'read_csv_s': t_csv, 'read_parquet_s': t_parq})\n",
        "print('Tamaño carpeta Parquet (aprox):', sum(os.path.getsize(os.path.join(root, f)) for root,_,files in os.walk(parquet_path) for f in files))\n"
      ]
    }
  ],
  "metadata": {
    "kernelspec": {
      "display_name": "Python 3",
      "language": "python",
      "name": "python3"
    },
    "language_info": {
      "name": "python",
      "version": "3.10"
    }
  },
  "nbformat": 4,
  "nbformat_minor": 5
}