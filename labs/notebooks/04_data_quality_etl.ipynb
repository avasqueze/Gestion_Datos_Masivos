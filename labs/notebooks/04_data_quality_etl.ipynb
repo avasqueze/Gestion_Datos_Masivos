{
  "cells": [
    {
      "cell_type": "markdown",
      "metadata": {},
      "source": [
        "# Semana 4 — Calidad y ETL\n",
        "Validaciones básicas y pipeline Bronze→Silver.\n"
      ]
    },
    {
      "cell_type": "code",
      "metadata": {},
      "execution_count": null,
      "outputs": [],
      "source": [
        "from pyspark.sql import SparkSession\n",
        "from pyspark.sql.functions import col, when, isnan\n",
        "spark = SparkSession.builder.appName('etl-quality').master('local[*]').getOrCreate()\n",
        "raw = spark.read.option('header', True).csv('../../data/clicks_sample.csv', inferSchema=True)\n",
        "# Reglas de calidad: precio > 0, action no-nulo\n",
        "clean = (raw\n",
        "  .filter(col('price').isNotNull() & (col('price') > 0))\n",
        "  .filter(~(col('action').isNull() | (col('action') == ''))))\n",
        "clean.write.mode('overwrite').parquet('../../data/gold/clicks_clean')\n",
        "print('Registros limpios:', clean.count())\n"
      ]
    }
  ],
  "metadata": {
    "kernelspec": {
      "display_name": "Python 3",
      "language": "python",
      "name": "python3"
    },
    "language_info": {
      "name": "python",
      "version": "3.10"
    }
  },
  "nbformat": 4,
  "nbformat_minor": 5
}