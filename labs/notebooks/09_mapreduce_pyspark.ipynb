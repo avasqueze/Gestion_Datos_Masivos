{
  "cells": [
    {
      "cell_type": "markdown",
      "metadata": {},
      "source": [
        "# Semana 9 — MapReduce en PySpark\n",
        "Comparación con Hadoop Streaming.\n"
      ]
    },
    {
      "cell_type": "code",
      "metadata": {},
      "execution_count": null,
      "outputs": [],
      "source": [
        "from pyspark.sql import SparkSession\n",
        "spark = SparkSession.builder.appName('mapreduce-style').getOrCreate()\n",
        "rdd = spark.sparkContext.textFile('../../data/clicks_sample.csv')\n",
        "pairs = (rdd\n",
        "         .flatMap(lambda line: line.split(','))\n",
        "         .map(lambda w: (w, 1))\n",
        "         .reduceByKey(lambda a,b: a+b))\n",
        "pairs.take(10)\n"
      ]
    }
  ],
  "metadata": {
    "kernelspec": {
      "display_name": "Python 3",
      "language": "python",
      "name": "python3"
    },
    "language_info": {
      "name": "python",
      "version": "3.10"
    }
  },
  "nbformat": 4,
  "nbformat_minor": 5
}