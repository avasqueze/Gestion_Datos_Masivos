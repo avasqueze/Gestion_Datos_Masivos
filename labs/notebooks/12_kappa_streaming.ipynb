{
  "cells": [
    {
      "cell_type": "markdown",
      "metadata": {},
      "source": [
        "# Semana 12 — Kappa: Structured Streaming + Kafka\n",
        "Este *notebook* asume que Kafka está corriendo en `localhost:9092` y que existe el tópico `events`.\n",
        "Ejecute `python ../../scripts/producer.py` en paralelo para generar eventos.\n"
      ]
    },
    {
      "cell_type": "code",
      "metadata": {},
      "execution_count": null,
      "outputs": [],
      "source": [
        "from pyspark.sql import SparkSession\n",
        "from pyspark.sql.functions import from_json, col, window, to_timestamp\n",
        "from pyspark.sql.types import StructType, StructField, StringType, DoubleType, TimestampType\n",
        "spark = (SparkSession.builder.appName('kappa-streaming').getOrCreate())\n",
        "schema = StructType([\n",
        "    StructField('event_time', StringType()),\n",
        "    StructField('user_id', StringType()),\n",
        "    StructField('action', StringType()),\n",
        "    StructField('item_id', StringType()),\n",
        "    StructField('price', DoubleType()),\n",
        "    StructField('source', StringType()),\n",
        "])\n",
        "raw = (spark\n",
        "  .readStream\n",
        "  .format('kafka')\n",
        "  .option('kafka.bootstrap.servers','localhost:9092')\n",
        "  .option('subscribe','events')\n",
        "  .option('startingOffsets','latest')\n",
        "  .load())\n",
        "events = (raw.selectExpr('CAST(value AS STRING) as json')\n",
        "  .select(from_json(col('json'), schema).alias('e'))\n",
        "  .selectExpr('e.*')\n",
        "  .withColumn('event_ts', to_timestamp('event_time')))\n",
        "agg = (events\n",
        "  .withWatermark('event_ts','10 minutes')\n",
        "  .groupBy(window(col('event_ts'), '1 minute'), col('action'))\n",
        "  .count())\n",
        "q = (agg.writeStream\n",
        "  .format('console')\n",
        "  .outputMode('update')\n",
        "  .option('truncate','false')\n",
        "  .start())\n",
        "q.awaitTermination(120)\n"
      ]
    }
  ],
  "metadata": {
    "kernelspec": {
      "display_name": "Python 3",
      "language": "python",
      "name": "python3"
    },
    "language_info": {
      "name": "python",
      "version": "3.10"
    }
  },
  "nbformat": 4,
  "nbformat_minor": 5
}